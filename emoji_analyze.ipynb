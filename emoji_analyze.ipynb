{
 "cells": [
  {
   "cell_type": "code",
   "execution_count": 112,
   "id": "2a71eda7",
   "metadata": {},
   "outputs": [],
   "source": [
    "import pandas as pd\n",
    "import emoji\n",
    "import collections"
   ]
  },
  {
   "cell_type": "code",
   "execution_count": 104,
   "id": "1ee4b0a8",
   "metadata": {},
   "outputs": [],
   "source": [
    "FILE_PATH = \"comments.txt\"\n",
    "DELIMITER = \"SPLIT\"\n",
    "SPLIT_STR = \"NEXTLINE\"\n",
    "OWNER = \"okabe-yuya\""
   ]
  },
  {
   "cell_type": "code",
   "execution_count": 125,
   "id": "bebd75ff",
   "metadata": {},
   "outputs": [
    {
     "data": {
      "text/plain": [
       "1343"
      ]
     },
     "execution_count": 125,
     "metadata": {},
     "output_type": "execute_result"
    }
   ],
   "source": [
    "with open(FILE_PATH, 'r') as file:\n",
    "    oneline_reviews = file.read().split(SPLIT_STR)\n",
    "    reviews_list = list(map(lambda row: row.split(DELIMITER), oneline_reviews))\n",
    "    \n",
    "len(reviews_list)"
   ]
  },
  {
   "cell_type": "code",
   "execution_count": 105,
   "id": "98ccd87e",
   "metadata": {},
   "outputs": [
    {
     "data": {
      "text/plain": [
       "517"
      ]
     },
     "execution_count": 105,
     "metadata": {},
     "output_type": "execute_result"
    }
   ],
   "source": [
    "own_reviews = list(filter(lambda review: review[1] == OWNER, reviews_list))\n",
    "len(own_reviews)"
   ]
  },
  {
   "cell_type": "code",
   "execution_count": 123,
   "id": "141e1b94",
   "metadata": {},
   "outputs": [
    {
     "data": {
      "text/plain": [
       "180"
      ]
     },
     "execution_count": 123,
     "metadata": {},
     "output_type": "execute_result"
    }
   ],
   "source": [
    "emojis = emoji.UNICODE_EMOJI[\"en\"].keys()\n",
    "include_emoji_reviews = []\n",
    "partial_include_emoji_reviews_append = include_emoji_reviews.append\n",
    "\n",
    "for review in own_reviews:\n",
    "    exist_emojis = list(filter(lambda e: e in review[0], emojis))\n",
    "    if len(exist_emojis) > 0:\n",
    "        text_and_emoji = { \"text\": review[0], \"emojis\": exist_emojis }\n",
    "        partial_include_emoji_reviews_append(text_and_emoji)\n",
    "        \n",
    "len(include_emoji_reviews)"
   ]
  },
  {
   "cell_type": "code",
   "execution_count": 124,
   "id": "79b157d3",
   "metadata": {},
   "outputs": [
    {
     "data": {
      "text/plain": [
       "300"
      ]
     },
     "execution_count": 124,
     "metadata": {},
     "output_type": "execute_result"
    }
   ],
   "source": [
    "concat_emojis = []\n",
    "partial_concat_emojis_extend = concat_emojis.extend\n",
    "\n",
    "for row in include_emoji_reviews:\n",
    "    emojis = row[\"emojis\"]\n",
    "    partial_concat_emojis_extend(emojis)\n",
    "    \n",
    "len(concat_emojis)"
   ]
  },
  {
   "cell_type": "code",
   "execution_count": 117,
   "id": "31d6bbc8",
   "metadata": {},
   "outputs": [
    {
     "data": {
      "text/plain": [
       "[('🤔', 80),\n",
       " ('♂', 52),\n",
       " ('🙇\\u200d♂️', 51),\n",
       " ('🙇', 51),\n",
       " ('👍', 14),\n",
       " ('👀', 12),\n",
       " ('💪', 4),\n",
       " ('👵', 4),\n",
       " ('🍨', 3),\n",
       " ('🌸', 3),\n",
       " ('🤚', 2),\n",
       " ('🎉', 2),\n",
       " ('🕺', 2),\n",
       " ('🌮', 2),\n",
       " ('🍧', 1),\n",
       " ('🍏', 1),\n",
       " ('🧹', 1),\n",
       " ('🐝', 1),\n",
       " ('😂', 1),\n",
       " ('☁', 1),\n",
       " ('☠', 1),\n",
       " ('🐙', 1),\n",
       " ('💁\\u200d♂️', 1),\n",
       " ('💁', 1),\n",
       " ('🍞', 1),\n",
       " ('💮', 1),\n",
       " ('🍎', 1),\n",
       " ('💃', 1),\n",
       " ('🍆', 1),\n",
       " ('🦇', 1),\n",
       " ('🏎', 1),\n",
       " ('🥺', 1)]"
      ]
     },
     "execution_count": 117,
     "metadata": {},
     "output_type": "execute_result"
    }
   ],
   "source": [
    "count = collections.Counter(concat_emojis)\n",
    "count_sorted = sorted(count.items(), key=lambda x:x[1],  reverse=True)\n",
    "count_sorted"
   ]
  },
  {
   "cell_type": "code",
   "execution_count": 122,
   "id": "e6a43388",
   "metadata": {},
   "outputs": [
    {
     "name": "stdout",
     "output_type": "stream",
     "text": [
      "絵文字: 🤔, 登場回数: 80\n",
      "絵文字: ♂, 登場回数: 52\n",
      "絵文字: 🙇‍♂️, 登場回数: 51\n",
      "絵文字: 🙇, 登場回数: 51\n",
      "絵文字: 👍, 登場回数: 14\n",
      "絵文字: 👀, 登場回数: 12\n"
     ]
    }
   ],
   "source": [
    "for count in count_sorted[:6]:\n",
    "    print(f\"絵文字: {count[0]}, 登場回数: {count[1]}\")"
   ]
  },
  {
   "cell_type": "code",
   "execution_count": null,
   "id": "046fdc74",
   "metadata": {},
   "outputs": [],
   "source": []
  }
 ],
 "metadata": {
  "kernelspec": {
   "display_name": "Python 3 (ipykernel)",
   "language": "python",
   "name": "python3"
  },
  "language_info": {
   "codemirror_mode": {
    "name": "ipython",
    "version": 3
   },
   "file_extension": ".py",
   "mimetype": "text/x-python",
   "name": "python",
   "nbconvert_exporter": "python",
   "pygments_lexer": "ipython3",
   "version": "3.8.2"
  }
 },
 "nbformat": 4,
 "nbformat_minor": 5
}
